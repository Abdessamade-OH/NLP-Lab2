{
 "cells": [
  {
   "cell_type": "code",
   "execution_count": 9,
   "id": "75a53caa",
   "metadata": {},
   "outputs": [],
   "source": [
    "#importing the libraries\n",
    "from nltk.corpus import stopwords\n",
    "import re"
   ]
  },
  {
   "cell_type": "code",
   "execution_count": 13,
   "id": "b11b4e76",
   "metadata": {
    "scrolled": false
   },
   "outputs": [
    {
     "name": "stdout",
     "output_type": "stream",
     "text": [
      "bought three Samsung smartphones 150 . four banana 1.2 one Hamburger 4.5 . five strawberries 4.5\n"
     ]
    }
   ],
   "source": [
    "import re\n",
    "from nltk.corpus import stopwords\n",
    "from nltk.tokenize import word_tokenize\n",
    "\n",
    "def preprocess(text):\n",
    "    # Preprocess the text\n",
    "    stop_words = set(stopwords.words('english'))\n",
    "    word_tokens = word_tokenize(text)\n",
    "    filtered_sentence = [w for w in word_tokens if not w.lower() in stop_words]\n",
    "\n",
    "    # Define a comprehensive list of adjectives related to products\n",
    "    product_adjectives = [\n",
    "        \"new\", \"fresh\", \"luxurious\", \"premium\", \"stylish\", \"elegant\",\n",
    "        \"innovative\", \"modern\", \"sleek\", \"high-quality\", \"cutting-edge\",\n",
    "        \"versatile\", \"durable\", \"practical\", \"exquisite\", \"opulent\",\n",
    "        # Add more adjectives as needed\n",
    "    ]\n",
    "\n",
    "    # Define a concise list of common measurements\n",
    "    measurements = [\"kilos\", \"kilograms\", \"kilogram\", \"grams\", \"pounds\", \"liters\", \"milliliters\", \"ounces\", \"gallons\", \"units\"]\n",
    "\n",
    "    # Define a concise list of well-known currency symbols\n",
    "    currencies = [\"$\", \"¥\", \"£\", \"€\", \"dollar\", \"yen\", \"pound\"]\n",
    "\n",
    "    # Remove adjectives, measurements, currencies, and other unwanted words\n",
    "    processed_sentence = [w for w in filtered_sentence if not re.match(r\"\\b(?:\\w+ly|and|with|each|for|a)\\b\", w, flags=re.IGNORECASE) and w.lower() not in product_adjectives + measurements + currencies]\n",
    "\n",
    "    # Replace commas with decimal points\n",
    "    processed_sentence = [w.replace(\",\", \".\") for w in processed_sentence]\n",
    "\n",
    "    return \" \".join(processed_sentence)\n",
    "\n",
    "# Example usage\n",
    "input_text = \"I bought three Samsung smartphones 150 $ each, four kilos of fresh banana for 1,2 dollar a kilogram and one Hamburger with 4,5 dollar, and five kilos of new strawberries for 4.5 dollar each\"\n",
    "preprocessed_text = preprocess(input_text)\n",
    "print(preprocessed_text)\n"
   ]
  },
  {
   "cell_type": "code",
   "execution_count": 3,
   "id": "928787b2",
   "metadata": {},
   "outputs": [
    {
     "name": "stdout",
     "output_type": "stream",
     "text": [
      "Collecting word2number\n",
      "  Downloading word2number-1.1.zip (9.7 kB)\n",
      "  Preparing metadata (setup.py): started\n",
      "  Preparing metadata (setup.py): finished with status 'done'\n",
      "Building wheels for collected packages: word2number\n",
      "  Building wheel for word2number (setup.py): started\n",
      "  Building wheel for word2number (setup.py): finished with status 'done'\n",
      "  Created wheel for word2number: filename=word2number-1.1-py3-none-any.whl size=5590 sha256=e5188053f961336aa1d9dddcee4e0fa3762fa0fa0b7694bead1773a60ffbd36e\n",
      "  Stored in directory: c:\\users\\hp\\appdata\\local\\pip\\cache\\wheels\\cd\\ef\\ae\\073b491b14d25e2efafcffca9e16b2ee6d114ec5c643ba4f06\n",
      "Successfully built word2number\n",
      "Installing collected packages: word2number\n",
      "Successfully installed word2number-1.1\n"
     ]
    }
   ],
   "source": [
    "!pip install word2number"
   ]
  },
  {
   "cell_type": "code",
   "execution_count": 14,
   "id": "c2cf1159",
   "metadata": {},
   "outputs": [
    {
     "name": "stdout",
     "output_type": "stream",
     "text": [
      "Quantity: 3, Product: Samsung smartphones, Price: 150.00\n",
      "Quantity: 4, Product: kilos of fresh banana for, Price: 1.20\n",
      "Quantity: 1, Product: Hamburger with, Price: 4.50\n",
      "Quantity: 5, Product: kilos of new strawberries for, Price: 4.00\n"
     ]
    }
   ],
   "source": [
    "import re\n",
    "from word2number import w2n  # Import the word2number library\n",
    "\n",
    "def extract_bill_info(text):\n",
    "    # Define regex patterns for quantity, product name, and price\n",
    "    quantity_pattern = r\"(\\b(?:one|two|three|four|five|six|seven|eight|nine)\\b)\"\n",
    "    product_pattern = r\"(\\w+(?:\\s+\\w+)*)\"\n",
    "    price_pattern = r\"(\\d+(?:,\\d{1,2})?)\"\n",
    "\n",
    "    # Combine the patterns to match the entire line\n",
    "    full_pattern = rf\"{quantity_pattern}\\s+{product_pattern}\\s+{price_pattern}\"\n",
    "\n",
    "    # Find all matches in the input text\n",
    "    matches = re.findall(full_pattern, text, flags=re.IGNORECASE)\n",
    "\n",
    "    # Create a list to store the extracted data\n",
    "    bill_data = []\n",
    "    for quantity, product, price in matches:\n",
    "        # Convert quantity to actual numbers using word2number\n",
    "        quantity_number = w2n.word_to_num(quantity)\n",
    "        bill_data.append({\n",
    "            \"Quantity\": quantity_number,\n",
    "            \"Product\": product,\n",
    "            \"Price\": float(price.replace(\",\", \".\")),\n",
    "        })\n",
    "\n",
    "    return bill_data\n",
    "\n",
    "# Example usage\n",
    "preprocessed_text = \"I bought three Samsung smartphones 150 $ each, four kilos of fresh banana for 1,2 dollar a kilogram and one Hamburger with 4,5 dollar, and five kilos of new strawberries for 4.5 dollar each\"\n",
    "bill_info = extract_bill_info(preprocessed_text)\n",
    "\n",
    "# Print the extracted data\n",
    "for item in bill_info:\n",
    "    print(f\"Quantity: {item['Quantity']}, Product: {item['Product']}, Price: {item['Price']:.2f}\")\n"
   ]
  },
  {
   "cell_type": "code",
   "execution_count": 15,
   "id": "9abd4331",
   "metadata": {},
   "outputs": [
    {
     "name": "stdout",
     "output_type": "stream",
     "text": [
      "Generated Bill:\n",
      "Product              Quantity   Unit Price   Total Price \n",
      "Samsung smartphones  3          150.00\t\t 450.00\n",
      "banana               4          1.00\t\t 4.00\n",
      "Hamburger            1          4.00\t\t 4.00\n"
     ]
    }
   ],
   "source": [
    "def print_bill_table(bill_data):\n",
    "    # Print the table header\n",
    "    print(\"Generated Bill:\")\n",
    "    print(f\"{'Product':<20} {'Quantity':<10} {'Unit Price':<12} {'Total Price':<12}\")\n",
    "\n",
    "    # Print each item in the bill data\n",
    "    for item in bill_data:\n",
    "        total_price = item['Quantity'] * item['Price']\n",
    "        print(f\"{item['Product']:<20} {item['Quantity']:<10} {item['Price']:.2f}\\t\\t {total_price:.2f}\")\n",
    "\n",
    "# Example usage\n",
    "input_text = \"I bought three Samsung smartphones 150 $ each, four kilos of fresh banana for 1,2 dollar a kilogram and one Hamburger with 4,5 dollar\"\n",
    "preprocessed_text = preprocess(input_text)\n",
    "bill_info = extract_bill_info(preprocessed_text)\n",
    "print_bill_table(bill_info)\n"
   ]
  }
 ],
 "metadata": {
  "kernelspec": {
   "display_name": "Python 3 (ipykernel)",
   "language": "python",
   "name": "python3"
  },
  "language_info": {
   "codemirror_mode": {
    "name": "ipython",
    "version": 3
   },
   "file_extension": ".py",
   "mimetype": "text/x-python",
   "name": "python",
   "nbconvert_exporter": "python",
   "pygments_lexer": "ipython3",
   "version": "3.11.5"
  }
 },
 "nbformat": 4,
 "nbformat_minor": 5
}
